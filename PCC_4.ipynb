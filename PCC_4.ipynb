{
  "nbformat": 4,
  "nbformat_minor": 0,
  "metadata": {
    "colab": {
      "provenance": [],
      "authorship_tag": "ABX9TyMlRsomTURXgLaef9t60DRt"
    },
    "kernelspec": {
      "name": "python3",
      "display_name": "Python 3"
    },
    "language_info": {
      "name": "python"
    }
  },
  "cells": [
    {
      "cell_type": "code",
      "execution_count": null,
      "metadata": {
        "colab": {
          "base_uri": "https://localhost:8080/"
        },
        "id": "d7TnYMKauSew",
        "outputId": "09ada3b9-bc27-4f7b-9865-1f5ec3ddcf3e"
      },
      "outputs": [
        {
          "output_type": "stream",
          "name": "stdout",
          "text": [
            "List of favorite pizzas:\n",
            "Seafood\n",
            "Margherita\n",
            "Veggie\n",
            "\n",
            "Statements about my favorite pizzas:\n",
            "I like Seafood pizza.\n",
            "I like Margherita pizza.\n",
            "I like Veggie pizza.\n",
            "\n",
            "I really love pizza!\n"
          ]
        }
      ],
      "source": [
        "favorite_pizzas = ['Seafood', 'Margherita', 'Veggie']\n",
        "\n",
        "print(\"List of fav pizzas:\")\n",
        "for pizza in favorite_pizzas:\n",
        "    print(pizza)\n",
        "\n",
        "print(\"\\nStatements about em:\")\n",
        "for pizza in favorite_pizzas:\n",
        "    print(\"I like \" + pizza + \" pizza.\")\n",
        "\n",
        "print(\"\\nI really love pizza!\")\n"
      ]
    },
    {
      "cell_type": "code",
      "source": [
        "animals = ['Ferret', 'Cat', 'Lizard']\n",
        "\n",
        "print(\"List of animals:\")\n",
        "for animal in animals:\n",
        "    print(animal)\n",
        "\n",
        "print(\"\\nStatements about each animla:\")\n",
        "for animal in animals:\n",
        "    print(\"A \" + animal + \" would make a great pet.\")\n",
        "\n",
        "print(\"\\nAny of these animals would make a great pet!\")\n"
      ],
      "metadata": {
        "colab": {
          "base_uri": "https://localhost:8080/"
        },
        "id": "Fwn-onXnuuTZ",
        "outputId": "70b382c9-45df-4330-92f7-7011a6915976"
      },
      "execution_count": null,
      "outputs": [
        {
          "output_type": "stream",
          "name": "stdout",
          "text": [
            "List of animals:\n",
            "Ferret\n",
            "Cat\n",
            "Lizard\n",
            "\n",
            "Statements about each animla:\n",
            "A Ferret would make a great pet.\n",
            "A Cat would make a great pet.\n",
            "A Lizard would make a great pet.\n",
            "\n",
            "Any of these animals would make a great pet!\n"
          ]
        }
      ]
    },
    {
      "cell_type": "code",
      "source": [
        "for num in range(1, 21):\n",
        "    print(number)"
      ],
      "metadata": {
        "id": "GmM5Ths1vJrd"
      },
      "execution_count": null,
      "outputs": []
    },
    {
      "cell_type": "code",
      "source": [
        "for num2 in range(1, 1000001):\n",
        "    print(num2)"
      ],
      "metadata": {
        "id": "8gfZ7SBzvU6H"
      },
      "execution_count": null,
      "outputs": []
    },
    {
      "cell_type": "code",
      "source": [
        "num3 = list(range(1, 1000001))\n",
        "\n",
        "print(\"Minimum number:\", min(num3))\n",
        "print(\"Maximum number:\", max(num3))\n",
        "\n",
        "print(\"Sum of the numbers:\", sum(num3))"
      ],
      "metadata": {
        "id": "mt7hog_UvdWM"
      },
      "execution_count": null,
      "outputs": []
    },
    {
      "cell_type": "code",
      "source": [
        "for num4 in range(1, 21, 2):\n",
        "    print(num4)"
      ],
      "metadata": {
        "id": "7CfZ-giJvrB8"
      },
      "execution_count": null,
      "outputs": []
    },
    {
      "cell_type": "code",
      "source": [
        "for num5 in list(range(3, 31, 3)):\n",
        "    print(num5)"
      ],
      "metadata": {
        "id": "Hdzs1CkKvwvf"
      },
      "execution_count": null,
      "outputs": []
    },
    {
      "cell_type": "code",
      "source": [
        "cubed_nums = [number**3 for number in range(1, 11)]\n",
        "\n",
        "for cubed_num in cubed_nums:\n",
        "    print(cubed_num)"
      ],
      "metadata": {
        "id": "v80VBdI8v61J"
      },
      "execution_count": null,
      "outputs": []
    },
    {
      "cell_type": "code",
      "source": [
        "print(cubed_nums)"
      ],
      "metadata": {
        "id": "T-mqOyGvwHwR"
      },
      "execution_count": null,
      "outputs": []
    },
    {
      "cell_type": "code",
      "source": [
        "cubes = [number**3 for number in range(1, 11)]\n",
        "\n",
        "print(\"cumes\", cubes)\n",
        "\n",
        "print(\"\\nfirst cubes:\")\n",
        "print(cubes[:3])\n",
        "\n",
        "mid_start = len(cubes) // 3\n",
        "mid_end = mid_start + 3\n",
        "print(\"\\nmid cubes:\")\n",
        "print(cubes[mid_start:mid_end])\n",
        "\n",
        "print(\"\\nlast cubes:\")\n",
        "print(cubes[-3:])"
      ],
      "metadata": {
        "id": "60_o3G5OwP29"
      },
      "execution_count": null,
      "outputs": []
    },
    {
      "cell_type": "code",
      "source": [
        "friend_pizzas = favorite_pizzas.copy()\n",
        "\n",
        "favorite_pizzas.append('Lobster')\n",
        "friend_pizzas.append('Pickled Onion')\n",
        "\n",
        "print(\"My faves are:\")\n",
        "for pizza in favorite_pizzas:\n",
        "    print(pizza)\n",
        "\n",
        "print(\"\\nMy friend's faves are:\")\n",
        "for pizza in friend_pizzas:\n",
        "    print(pizza)"
      ],
      "metadata": {
        "id": "9FO6kIUSwjzO"
      },
      "execution_count": null,
      "outputs": []
    },
    {
      "cell_type": "code",
      "source": [],
      "metadata": {
        "id": "sFVtG4b2w84j"
      },
      "execution_count": null,
      "outputs": []
    }
  ]
}