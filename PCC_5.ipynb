{
  "nbformat": 4,
  "nbformat_minor": 0,
  "metadata": {
    "colab": {
      "provenance": [],
      "authorship_tag": "ABX9TyPEsBIeXz1h2on3SIOBeCDI"
    },
    "kernelspec": {
      "name": "python3",
      "display_name": "Python 3"
    },
    "language_info": {
      "name": "python"
    }
  },
  "cells": [
    {
      "cell_type": "code",
      "execution_count": null,
      "metadata": {
        "id": "-YvrPW4kyfo-"
      },
      "outputs": [],
      "source": [
        "#5-1\n",
        "# Variable for testing\n",
        "car = 'subaru'\n",
        "\n",
        "# Test 1\n",
        "print(car == 'subaru')\n",
        "\n",
        "# Test 2\n",
        "print(car == 'audi')\n",
        "\n",
        "# Test 3\n",
        "number = 5\n",
        "print(number > 3)\n",
        "\n",
        "# Test 4\n",
        "print(number < 2)\n",
        "\n",
        "# Test 5\n",
        "name = 'Alice'\n",
        "\n",
        "print(name != 'Bob')\n",
        "\n",
        "# Test 6\n",
        "print(len(name) == 5)\n",
        "\n",
        "# Test 7\n",
        "temperature = 25\n",
        "print(20 <= temperature <= 30)\n",
        "\n",
        "# Test 8\n",
        "print(temperature > 30 or temperature < 10)\n",
        "\n",
        "# Test 9\n",
        "is_sunny = True\n",
        "print(is_sunny and number_of_clouds < 5)\n",
        "\n",
        "# Test 10\n",
        "print(is_sunny or is_raining)"
      ]
    },
    {
      "cell_type": "code",
      "source": [
        "#5-2\n",
        "fruit = 'apple'\n",
        "print(fruit == 'apple')\n",
        "\n",
        "color = 'blue'\n",
        "print(color != 'red')\n",
        "\n",
        "word = 'HELLO'\n",
        "print(word.lower() == 'hello')\n",
        "\n",
        "age = 25\n",
        "print(age == 25)\n",
        "\n",
        "temperature = 15\n",
        "print(temperature > 20)\n",
        "\n",
        "price = 30\n",
        "print(price < 25 or price >= 30)\n",
        "\n",
        "points = 42\n",
        "print(points > 30 and points < 50)\n",
        "\n",
        "hours_worked = 60\n",
        "print(hours_worked < 40 or hours_worked > 80)\n",
        "\n",
        "fruits = ['apple', 'banana', 'orange']\n",
        "print('banana' in fruits)\n",
        "\n",
        "vegetables = ['carrot', 'broccoli', 'spinach']\n",
        "print('zucchini' not in vegetables)"
      ],
      "metadata": {
        "id": "aSKZ1SnQyx0M"
      },
      "execution_count": null,
      "outputs": []
    },
    {
      "cell_type": "code",
      "source": [
        "#5-6\n",
        "age = 28\n",
        "\n",
        "if age < 2:\n",
        "    print(\"Just a little baby!\")\n",
        "elif 2 <= age < 4:\n",
        "    print(\"Toddling around\")\n",
        "elif 4 <= age < 13:\n",
        "    print(\"childhood\")\n",
        "elif 13 <= age < 20:\n",
        "    print(\"Teenage years\")\n",
        "elif 20 <= age < 65:\n",
        "    print(\"Adulting.\")\n",
        "else:\n",
        "    print(\"oldies\")"
      ],
      "metadata": {
        "id": "0l4aGgY6y4rE"
      },
      "execution_count": null,
      "outputs": []
    },
    {
      "cell_type": "code",
      "source": [
        "#5-7\n",
        "favorite_fruits = ['apple', 'banana', 'strawberry']\n",
        "\n",
        "if 'apple' in favorite_fruits:\n",
        "    print(\"You really like apples!\")\n",
        "\n",
        "if 'banana' in favorite_fruits:\n",
        "    print(\"You really like bananas!\")\n",
        "\n",
        "if 'orange' in favorite_fruits:\n",
        "    print(\"You really like oranges!\")\n",
        "\n",
        "if 'strawberry' in favorite_fruits:\n",
        "    print(\"You really like strawberries!\")\n",
        "\n",
        "if 'kiwi' in favorite_fruits:\n",
        "    print(\"You really like kiwis!\")"
      ],
      "metadata": {
        "id": "s1TiPHz-y7iv"
      },
      "execution_count": null,
      "outputs": []
    },
    {
      "cell_type": "code",
      "source": [
        "#5-8\n",
        "usernames = ['admin', 'jaden', 'emma', 'john', 'sophie']\n",
        "\n",
        "for username in usernames:\n",
        "    if username == 'admin':\n",
        "        print(\"Hello admin, would you like to see a status report?\")\n",
        "    else:\n",
        "        print(f\"Hello {username.title()}, thank you for logging in again.\")\n"
      ],
      "metadata": {
        "id": "x2RVu2Igy9K4"
      },
      "execution_count": null,
      "outputs": []
    },
    {
      "cell_type": "code",
      "source": [
        "#5-9\n",
        "usernames = []\n",
        "\n",
        "if usernames:\n",
        "    for username in usernames:\n",
        "        if username == 'admin':\n",
        "            print(\"Hello admin, would you like to see a status report?\")\n",
        "        else:\n",
        "            print(f\"Hello {username.title()}, thank you for logging in again.\")\n",
        "else:\n",
        "    print(\"We need to find some users!\")"
      ],
      "metadata": {
        "id": "HsQ2rd6Hy-Rw"
      },
      "execution_count": null,
      "outputs": []
    },
    {
      "cell_type": "code",
      "source": [
        "#5-10\n",
        "current_users = ['sammy', 'ella', 'clarke', 'joe', 'alec']\n",
        "\n",
        "new_users = ['varun', 'kate', 'leen', 'dan', 'sam']\n",
        "\n",
        "current_users_lower = [user.lower() for user in current_users]\n",
        "\n",
        "for new_user in new_users:\n",
        "    if new_user.lower() in current_users_lower:\n",
        "        print(f\"Sorry, the username '{new_user}' is not available. Please enter a new username.\")\n",
        "    else:\n",
        "        print(f\"The username '{new_user}' is available.\")"
      ],
      "metadata": {
        "id": "utphV6JZy_vi"
      },
      "execution_count": null,
      "outputs": []
    }
  ]
}