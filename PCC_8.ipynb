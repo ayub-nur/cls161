{
  "nbformat": 4,
  "nbformat_minor": 0,
  "metadata": {
    "colab": {
      "provenance": [],
      "authorship_tag": "ABX9TyPWsI63Pdc0lvqgZC5Bz7mU"
    },
    "kernelspec": {
      "name": "python3",
      "display_name": "Python 3"
    },
    "language_info": {
      "name": "python"
    }
  },
  "cells": [
    {
      "cell_type": "code",
      "execution_count": null,
      "metadata": {
        "id": "-_sL-KECswXj"
      },
      "outputs": [],
      "source": [
        "#8-1\n",
        "def display_message():\n",
        "    print(\"In this chapter, I'm learnin bout functions.\")\n",
        "\n",
        "display_message()"
      ]
    },
    {
      "cell_type": "code",
      "source": [
        "#8-2\n",
        "def favorite_book(title):\n",
        "    print(f\"I love {title}. It's one of my favoirite books\")\n",
        "\n",
        "# Calling the function with a book title as an argument\n",
        "favorite_book(\"The Penelopiad\")\n"
      ],
      "metadata": {
        "id": "Q_94t814tCLO"
      },
      "execution_count": null,
      "outputs": []
    },
    {
      "cell_type": "code",
      "source": [
        "#8-3\n",
        "def make_shirt(size, message):\n",
        "    print(f\"Shirt will be of size: {size}. This will be printed on it: {message}\")\n",
        "\n",
        "make_shirt(\"XL\", \"Coding Boy\")\n",
        "\n",
        "make_shirt(size=\"S\", message=\"#hacker\")\n"
      ],
      "metadata": {
        "colab": {
          "base_uri": "https://localhost:8080/"
        },
        "id": "DaoHjdxltFKM",
        "outputId": "9d414a96-3daa-448c-d31f-ca38714b9c2c"
      },
      "execution_count": null,
      "outputs": [
        {
          "output_type": "stream",
          "name": "stdout",
          "text": [
            "Shirt will be of size: XL. This will be printed on it: Coding Boy\n",
            "Shirt will be of size: S. This will be printed on it: #hacker\n"
          ]
        }
      ]
    },
    {
      "cell_type": "code",
      "source": [
        "#8-5\n",
        "def describe_city(city, country='Unknown'):\n",
        "    print(f\"{city} is in {country}.\")\n",
        "\n",
        "describe_city(\"Portland, ME\")\n",
        "describe_city(\"Nice\", \"France\")\n",
        "describe_city(\"Sydney\", \"Australia\")\n"
      ],
      "metadata": {
        "colab": {
          "base_uri": "https://localhost:8080/"
        },
        "id": "4z5ngJxatMRu",
        "outputId": "f84185cc-85c4-49ee-847f-575a4ef594a4"
      },
      "execution_count": null,
      "outputs": [
        {
          "output_type": "stream",
          "name": "stdout",
          "text": [
            "Portland, ME is in Unknown.\n",
            "Nice is in France.\n",
            "Sydney is in Australia.\n"
          ]
        }
      ]
    },
    {
      "cell_type": "code",
      "source": [
        "#8-6\n",
        "def city_country(city, country):\n",
        "    return f\"{city}, {country}\"\n",
        "\n",
        "loc1 = city_country(\"Portland\", \"USA\")\n",
        "loc2 = city_country(\"Bangor\", \"USA\")\n",
        "loc3 = city_country(\"Augusta\", \"USA\")\n",
        "\n",
        "# Printing the returned values\n",
        "print(loc1)\n",
        "print(loc2)\n",
        "print(loc3)\n"
      ],
      "metadata": {
        "colab": {
          "base_uri": "https://localhost:8080/"
        },
        "id": "56yOUjo5tN13",
        "outputId": "6ad7f053-5acb-4e25-c7b2-4a01336c1bed"
      },
      "execution_count": null,
      "outputs": [
        {
          "output_type": "stream",
          "name": "stdout",
          "text": [
            "Portland, USA\n",
            "Bangor, USA\n",
            "Augusta, USA\n"
          ]
        }
      ]
    },
    {
      "cell_type": "code",
      "source": [
        "#8-7\n",
        "def make_album(artist, title, tracks=None):\n",
        "    album = {'artist': artist, 'title': title}\n",
        "    if tracks:\n",
        "        album['tracks'] = tracks\n",
        "    return album\n",
        "\n",
        "# Making three dictionaries representing different albums\n",
        "album1 = make_album(\"MFDOOM\", \"Rhymes like Dimes\")\n",
        "album2 = make_album(\"Summer Salt\", \"Driving to Hawaii\", 6)\n",
        "album3 = make_album(\"Ka\", \"Descendants of Cain\", 11)\n",
        "\n",
        "# Printing each return value to show the stored album information\n",
        "print(album1)\n",
        "print(album2)\n",
        "print(album3)\n"
      ],
      "metadata": {
        "colab": {
          "base_uri": "https://localhost:8080/"
        },
        "id": "1UoAaKgWtPP5",
        "outputId": "d216a508-7a6e-4ccf-8451-1b9f7c54900e"
      },
      "execution_count": null,
      "outputs": [
        {
          "output_type": "stream",
          "name": "stdout",
          "text": [
            "{'artist': 'MFDOOM', 'title': 'Rhymes like Dimes'}\n",
            "{'artist': 'Summer Salt', 'title': 'Driving to Hawaii', 'tracks': 6}\n",
            "{'artist': 'Ka', 'title': 'Descendants of Cain', 'tracks': 11}\n"
          ]
        }
      ]
    }
  ]
}