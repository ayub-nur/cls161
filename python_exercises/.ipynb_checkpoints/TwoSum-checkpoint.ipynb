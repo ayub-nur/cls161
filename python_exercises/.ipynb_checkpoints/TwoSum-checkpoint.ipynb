{
 "cells": [
  {
   "cell_type": "code",
   "execution_count": null,
   "id": "3287f9b2",
   "metadata": {},
   "outputs": [],
   "source": [
    "class Solution:\n",
    "    def twoSum(self, nums: List[int], target: int) -> List[int]:\n",
    "        nums_copy = nums.copy()\n",
    "        nums_copy.sort()\n",
    "        length_list = len(nums_copy)\n",
    "\n",
    "        begin = 0\n",
    "        end = length_list - 1\n",
    "        curr = 10^10\n",
    "\n",
    "        while(begin != end):\n",
    "            curr = nums_copy[begin] + nums_copy[end]\n",
    "            if (curr > target):\n",
    "                end = end - 1\n",
    "            elif (curr < target):\n",
    "                begin = begin + 1\n",
    "            else:\n",
    "                break\n",
    "\n",
    "        index_1 = 0\n",
    "        index_2 = 0\n",
    "        for i in range(length_list):\n",
    "            if (nums[i] == nums_copy[begin]):\n",
    "                index_1 = i\n",
    "        \n",
    "        for j in reversed(range(length_list)):\n",
    "            if (nums[j] == nums_copy[end]):\n",
    "                index_2 = j\n",
    "\n",
    "        array = [index_1, index_2]  \n",
    "        return array"
   ]
  },
  {
   "cell_type": "markdown",
   "id": "c4d6670d",
   "metadata": {},
   "source": [
    "# Runtime\n",
    "66ms\n",
    "\n",
    "Beats 61.78%of users with Python3\n",
    "\n",
    "\n",
    "# Memory\n",
    "17.19MB\n",
    "\n",
    "Beats 69.05%of users with Python3"
   ]
  },
  {
   "cell_type": "markdown",
   "id": "5e263da4",
   "metadata": {},
   "source": [
    "source: https://leetcode.com/problems/two-sum/"
   ]
  }
 ],
 "metadata": {
  "kernelspec": {
   "display_name": "Python 3 (ipykernel)",
   "language": "python",
   "name": "python3"
  },
  "language_info": {
   "codemirror_mode": {
    "name": "ipython",
    "version": 3
   },
   "file_extension": ".py",
   "mimetype": "text/x-python",
   "name": "python",
   "nbconvert_exporter": "python",
   "pygments_lexer": "ipython3",
   "version": "3.11.4"
  }
 },
 "nbformat": 4,
 "nbformat_minor": 5
}
