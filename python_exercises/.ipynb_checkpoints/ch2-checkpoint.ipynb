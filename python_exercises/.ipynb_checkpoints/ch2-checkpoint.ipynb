{
 "cells": [
  {
   "cell_type": "markdown",
   "id": "58cfbf13",
   "metadata": {},
   "source": []
  },
  {
   "cell_type": "code",
   "execution_count": 4,
   "id": "5b662ebf",
   "metadata": {},
   "outputs": [
    {
     "name": "stdout",
     "output_type": "stream",
     "text": [
      "bruh\n"
     ]
    }
   ],
   "source": [
    "# 2.1\n",
    "\n",
    "simple_message = \"bruh\"\n",
    "print(simple_message)"
   ]
  },
  {
   "cell_type": "code",
   "execution_count": 5,
   "id": "6093f8cb",
   "metadata": {},
   "outputs": [
    {
     "name": "stdout",
     "output_type": "stream",
     "text": [
      "omg\n",
      "oh my god\n"
     ]
    }
   ],
   "source": [
    "# 2.2\n",
    "\n",
    "omg = \"omg\"\n",
    "print(omg)\n",
    "\n",
    "omg = \"oh my god\"\n",
    "print(omg)"
   ]
  },
  {
   "cell_type": "code",
   "execution_count": 12,
   "id": "69795d98",
   "metadata": {},
   "outputs": [
    {
     "name": "stdout",
     "output_type": "stream",
     "text": [
      "Hello Ayub , would you like to learn some Python today?\n"
     ]
    }
   ],
   "source": [
    "# 2.3\n",
    "\n",
    "name = \"Ayub\"\n",
    "# i kinda dislike the automatic spacing. It's the C in me that makes me go (- ~ -)\n",
    "print(\"Hello\", name, \", would you like to learn some Python today?\")"
   ]
  },
  {
   "cell_type": "code",
   "execution_count": 14,
   "id": "1cafe198",
   "metadata": {},
   "outputs": [
    {
     "name": "stdout",
     "output_type": "stream",
     "text": [
      "ayub nur\n",
      "AYUB NUR\n",
      "Ayub Nur\n"
     ]
    }
   ],
   "source": [
    "# 2.4\n",
    "\n",
    "name = \"aYuB NuR\"\n",
    "\n",
    "print(name.lower())\n",
    "print(name.upper())\n",
    "print(name.title())"
   ]
  },
  {
   "cell_type": "code",
   "execution_count": 15,
   "id": "cdbfacc4",
   "metadata": {},
   "outputs": [
    {
     "name": "stdout",
     "output_type": "stream",
     "text": [
      "Albert Einstein once said, \"A person who never made a mistake never tried anything new.\"\n"
     ]
    }
   ],
   "source": [
    "# 2.5\n",
    "\n",
    "print(\"Albert Einstein once said, \\\"A person who never made a mistake never tried anything new.\\\"\")"
   ]
  },
  {
   "cell_type": "code",
   "execution_count": 17,
   "id": "f7a612e2",
   "metadata": {},
   "outputs": [
    {
     "name": "stdout",
     "output_type": "stream",
     "text": [
      "Albert Einstein once said, \"A person who never made a mistake never tried anything new.\"\n"
     ]
    }
   ],
   "source": [
    "# 2.6\n",
    "\n",
    "famous_person = \"Albert Einstein\"\n",
    "quote         = \"\\\"A person who never made a mistake never tried anything new.\\\"\"\n",
    "\n",
    "print(famous_person, \"once said,\", quote)"
   ]
  },
  {
   "cell_type": "code",
   "execution_count": 23,
   "id": "c597df77",
   "metadata": {},
   "outputs": [
    {
     "name": "stdout",
     "output_type": "stream",
     "text": [
      ".       Albert Einstein       .\n",
      ". Albert Einstein .\n",
      ".       Albert Einstein .\n",
      ". Albert Einstein       .\n"
     ]
    }
   ],
   "source": [
    "# 2.7\n",
    "\n",
    "famous_person = \"      Albert Einstein      \"\n",
    "print(\".\", famous_person,\".\")\n",
    "print(\".\", famous_person.strip(),\".\")\n",
    "print(\".\", famous_person.rstrip(),\".\")\n",
    "print(\".\", famous_person.lstrip(),\".\")"
   ]
  },
  {
   "cell_type": "code",
   "execution_count": 26,
   "id": "27de3be7",
   "metadata": {},
   "outputs": [
    {
     "name": "stdout",
     "output_type": "stream",
     "text": [
      "8\n",
      "8\n",
      "8\n",
      "8\n"
     ]
    }
   ],
   "source": [
    "# 2.8\n",
    "print(5 + 3)\n",
    "print(2 * 4)\n",
    "print(int(16 / 2))\n",
    "print(100 - 92)"
   ]
  },
  {
   "cell_type": "code",
   "execution_count": 59,
   "id": "39fdbc94",
   "metadata": {},
   "outputs": [
    {
     "name": "stdout",
     "output_type": "stream",
     "text": [
      "77777777777777777777777777777777777777777777777777\n",
      "                                                7\n",
      "                                               7\n",
      "                                              7\n",
      "                                             7\n",
      "                                            7\n",
      "                                           7\n",
      "                                          7\n",
      "                                         7\n",
      "                                        7\n",
      "                                       7\n",
      "                                      7\n",
      "                                     7\n",
      "                                    7\n",
      "                                   7\n",
      "                                  7\n",
      "                                 7\n",
      "                                7\n",
      "                               7\n",
      "                              7\n",
      "                             7\n",
      "                            7\n",
      "                           7\n",
      "                          7\n",
      "                         7\n",
      "                        7\n",
      "                       7\n",
      "                      7\n",
      "                     7\n",
      "                    7\n",
      "                   7\n",
      "                  7\n",
      "                 7\n",
      "                7\n",
      "               7\n",
      "              7\n",
      "             7\n",
      "            7\n",
      "           7\n",
      "          7\n",
      "         7\n",
      "        7\n",
      "       7\n",
      "      7\n",
      "     7\n",
      "    7\n",
      "   7\n",
      "  7\n",
      " 7\n"
     ]
    }
   ],
   "source": [
    "# 2.9\n",
    "num = 7\n",
    "s = \" \"\n",
    "a = True\n",
    "\n",
    "for i in range(50):\n",
    "    for j in range(50):\n",
    "        if (j == 0):\n",
    "            print(num, end=\"\")\n",
    "\n",
    "print()\n",
    "\n",
    "# such spagheti code, but I didn't wanna think about neatening it up lol\n",
    "for i in range(49):\n",
    "    for j in range(49):\n",
    "        if ((i == j) and (i != 0)):\n",
    "            print((\" \"* (48 - i)),num, end=\"\")\n",
    "            print()\n"
   ]
  },
  {
   "cell_type": "code",
   "execution_count": null,
   "id": "29ab2006",
   "metadata": {},
   "outputs": [],
   "source": []
  }
 ],
 "metadata": {
  "kernelspec": {
   "display_name": "Python 3 (ipykernel)",
   "language": "python",
   "name": "python3"
  },
  "language_info": {
   "codemirror_mode": {
    "name": "ipython",
    "version": 3
   },
   "file_extension": ".py",
   "mimetype": "text/x-python",
   "name": "python",
   "nbconvert_exporter": "python",
   "pygments_lexer": "ipython3",
   "version": "3.11.4"
  }
 },
 "nbformat": 4,
 "nbformat_minor": 5
}
