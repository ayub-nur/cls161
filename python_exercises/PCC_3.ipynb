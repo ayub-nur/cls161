{
  "nbformat": 4,
  "nbformat_minor": 0,
  "metadata": {
    "colab": {
      "provenance": [],
      "authorship_tag": "ABX9TyNedndunK6RCse6cvwLEGtZ",
      "include_colab_link": true
    },
    "kernelspec": {
      "name": "python3",
      "display_name": "Python 3"
    },
    "language_info": {
      "name": "python"
    }
  },
  "cells": [
    {
      "cell_type": "markdown",
      "metadata": {
        "id": "view-in-github",
        "colab_type": "text"
      },
      "source": [
        "<a href=\"https://colab.research.google.com/github/ayub-nur/cls161/blob/main/PCC_3.ipynb\" target=\"_parent\"><img src=\"https://colab.research.google.com/assets/colab-badge.svg\" alt=\"Open In Colab\"/></a>"
      ]
    },
    {
      "cell_type": "code",
      "execution_count": null,
      "metadata": {
        "colab": {
          "base_uri": "https://localhost:8080/"
        },
        "id": "T2EgCzRxnUYj",
        "outputId": "3980b443-c328-46e0-dbb8-519bff41693d"
      },
      "outputs": [
        {
          "output_type": "stream",
          "name": "stdout",
          "text": [
            "Ayub\n",
            "Max\n",
            "James\n"
          ]
        }
      ],
      "source": [
        "# name\n",
        "\n",
        "names = [\"Ayub\", \"Max\", \"James\"]\n",
        "\n",
        "for person in names:\n",
        "    print(person)\n"
      ]
    },
    {
      "cell_type": "code",
      "source": [
        "for name in names:\n",
        "    print(\"Hello %s, good to see you\" %name)"
      ],
      "metadata": {
        "colab": {
          "base_uri": "https://localhost:8080/"
        },
        "id": "-zg_xiPQpI6K",
        "outputId": "42485457-d021-4c7e-f66d-224b9435bc58"
      },
      "execution_count": null,
      "outputs": [
        {
          "output_type": "stream",
          "name": "stdout",
          "text": [
            "Hello Ayub, good to see you\n",
            "Hello Max, good to see you\n",
            "Hello James, good to see you\n"
          ]
        }
      ]
    },
    {
      "cell_type": "code",
      "source": [
        "trains = [\"monorail\", \"tram\", \"subway\", \"maglev\"]\n",
        "colors = [\"red\", \"green\", \"blue\", \"grey\"]\n",
        "\n",
        "for i in range (0, len(trains)):\n",
        "    print(\"I want a %s %s\" % (colors[i], trains[i]))\n"
      ],
      "metadata": {
        "colab": {
          "base_uri": "https://localhost:8080/"
        },
        "id": "YHzUucqRppfu",
        "outputId": "69681735-bf7e-4135-f0cd-373d151f8719"
      },
      "execution_count": null,
      "outputs": [
        {
          "output_type": "stream",
          "name": "stdout",
          "text": [
            "I want a red monorain\n",
            "I want a green tram\n",
            "I want a blue subway\n",
            "I want a grey maglev\n"
          ]
        }
      ]
    },
    {
      "cell_type": "code",
      "source": [
        "\n",
        "guest_list = [\"Grandpa Abdinoor\", \"James Baldwin\", \"Al Jahiz\"]\n",
        "\n",
        "\n",
        "for person in guest_list:\n",
        "    print(f\"Dear {person},\\n\\tYou are invited to dinner! We would be honored to have you join us.\\n\")\n",
        "\n",
        "print(\"Invitations have been sent!\")"
      ],
      "metadata": {
        "colab": {
          "base_uri": "https://localhost:8080/"
        },
        "id": "IDSMfylvp0UV",
        "outputId": "058712a4-098d-48d0-f2bd-8cb35b0737ed"
      },
      "execution_count": null,
      "outputs": [
        {
          "output_type": "stream",
          "name": "stdout",
          "text": [
            "Dear Grandpa Abdinoor,\n",
            "\tYou are invited to dinner! We would be honored to have you join us.\n",
            "\n",
            "Dear James Baldwin,\n",
            "\tYou are invited to dinner! We would be honored to have you join us.\n",
            "\n",
            "Dear Al Jahiz,\n",
            "\tYou are invited to dinner! We would be honored to have you join us.\n",
            "\n",
            "Invitations have been sent!\n"
          ]
        }
      ]
    },
    {
      "cell_type": "code",
      "source": [
        "\n",
        "guest_list = [\"Grandpa Abdinoor\", \"James Baldwin\", \"Al Jahiz\"]\n",
        "\n",
        "\n",
        "for person in guest_list:\n",
        "    print(f\"Dear {person},\\n\\tYou are invited to dinner! We would be honored to have you join us.\\n\")\n",
        "\n",
        "\n",
        "cannot_attend = guest_list.pop(1)\n",
        "\n",
        "\n",
        "print(f\"{cannot_attend} can't make it to dinner.\\n\")\n",
        "\n",
        "\n",
        "new_person = \"Sejong the Great\"\n",
        "guest_list.append(new_person)\n",
        "\n",
        "\n",
        "for person in guest_list:\n",
        "    print(f\"Dear {person},\\n\\tYou are invited to dinner! We would be honored to have you join us.\\n\")\n",
        "\n",
        "print(\"Invitations have been updated.\")"
      ],
      "metadata": {
        "colab": {
          "base_uri": "https://localhost:8080/"
        },
        "id": "YGEr7Xm9rTKE",
        "outputId": "6200a8d9-edfe-4753-d13c-3059f0d981bf"
      },
      "execution_count": null,
      "outputs": [
        {
          "output_type": "stream",
          "name": "stdout",
          "text": [
            "Dear Grandpa Abdinoor,\n",
            "\tYou are invited to dinner! We would be honored to have you join us.\n",
            "\n",
            "Dear James Baldwin,\n",
            "\tYou are invited to dinner! We would be honored to have you join us.\n",
            "\n",
            "Dear Al Jahiz,\n",
            "\tYou are invited to dinner! We would be honored to have you join us.\n",
            "\n",
            "James Baldwin can't make it to dinner.\n",
            "\n",
            "Dear Grandpa Abdinoor,\n",
            "\tYou are invited to dinner! We would be honored to have you join us.\n",
            "\n",
            "Dear Al Jahiz,\n",
            "\tYou are invited to dinner! We would be honored to have you join us.\n",
            "\n",
            "Dear Sejong the Great,\n",
            "\tYou are invited to dinner! We would be honored to have you join us.\n",
            "\n",
            "Invitations have been updated.\n"
          ]
        }
      ]
    },
    {
      "cell_type": "code",
      "source": [
        "new_guests = [\"Maulana Rumi\", \"Nikola Tesla\", \"Kazuki Takahashi\"]\n",
        "guest_list.insert(0, new_guests[0])\n",
        "guest_list.insert(len(guest_list) // 2, new_guests[1])\n",
        "guest_list.append(new_guests[2])\n",
        "\n",
        "print(\"Good news! We found a bigger dinner table.\\n\")\n",
        "\n",
        "for person in guest_list:\n",
        "    print(f\"Dear {person},\\n\\tYou are invited to dinner! We would be honored to have you join us.\\n\")\n",
        "\n",
        "print(\"Updated invitations have been sent.\")"
      ],
      "metadata": {
        "colab": {
          "base_uri": "https://localhost:8080/"
        },
        "id": "Ls8jNsPorvxY",
        "outputId": "7228699a-f5b0-4486-89ae-ed58d15300ba"
      },
      "execution_count": null,
      "outputs": [
        {
          "output_type": "stream",
          "name": "stdout",
          "text": [
            "Good news! We found a bigger dinner table.\n",
            "\n",
            "Dear Nikola Tesla,\n",
            "\tYou are invited to dinner! We would be honored to have you join us.\n",
            "\n",
            "Dear Maulana Rumi,\n",
            "\tYou are invited to dinner! We would be honored to have you join us.\n",
            "\n",
            "Dear Kazuki Takahashi,\n",
            "\tYou are invited to dinner! We would be honored to have you join us.\n",
            "\n",
            "Updated invitations have been sent.\n"
          ]
        }
      ]
    },
    {
      "cell_type": "code",
      "source": [
        "print(len(guest_list))"
      ],
      "metadata": {
        "colab": {
          "base_uri": "https://localhost:8080/"
        },
        "id": "hPy4zuLzt_XD",
        "outputId": "879caac2-4153-45df-d78c-4f34ee8e5f20"
      },
      "execution_count": null,
      "outputs": [
        {
          "output_type": "stream",
          "name": "stdout",
          "text": [
            "3\n"
          ]
        }
      ]
    },
    {
      "cell_type": "code",
      "source": [
        "print(\"Unfortunately, the new dinner table won't arrive in time, and we can only invite two people for dinner.\\n\")\n",
        "\n",
        "while len(guest_list) > 2:\n",
        "    removed_person = guest_list.pop()\n",
        "    print(f\"Sorry, {removed_person}, we can't invite you to dinner.\")\n",
        "\n",
        "for remaining_person in guest_list:\n",
        "    print(f\"Dear {remaining_person},\\n\\tYou are still invited to dinner! We would be honored to have you join us.\\n\")\n",
        "\n",
        "del guest_list[:]\n",
        "\n",
        "print(\"After removing the last two names, the guest list is now:\", guest_list)"
      ],
      "metadata": {
        "colab": {
          "base_uri": "https://localhost:8080/"
        },
        "id": "vdrzE2EhtGxC",
        "outputId": "aac6f038-8c20-4660-d50a-a855c32ad4de"
      },
      "execution_count": null,
      "outputs": [
        {
          "output_type": "stream",
          "name": "stdout",
          "text": [
            "Unfortunately, the new dinner table won't arrive in time, and we can only invite two people for dinner.\n",
            "\n",
            "Sorry, Kazuki Takahashi, we can't invite you to dinner.\n",
            "Dear Nikola Tesla,\n",
            "\tYou are still invited to dinner! We would be honored to have you join us.\n",
            "\n",
            "Dear Maulana Rumi,\n",
            "\tYou are still invited to dinner! We would be honored to have you join us.\n",
            "\n",
            "After removing the last two names, the guest list is now: []\n"
          ]
        }
      ]
    },
    {
      "cell_type": "code",
      "source": [
        "\n",
        "places_to_visit = [\"Dar es Salaam\", \"Kyoto\", \"Samarkand\", \"Sydney\", \"Athens\"]\n",
        "\n",
        "print(\"Original order:\", places_to_visit)\n",
        "\n",
        "print(\"Alphabetical order:\", sorted(places_to_visit))\n",
        "\n",
        "print(\"Original order (after sorted()):\", places_to_visit)\n",
        "\n",
        "print(\"Reverse-alphabetical order:\", sorted(places_to_visit, reverse=True))\n",
        "\n",
        "print(\"Original order (after sorted(reverse=True)):\", places_to_visit)\n",
        "\n",
        "places_to_visit.reverse()\n",
        "print(\"Reversed order:\", places_to_visit)\n",
        "\n",
        "places_to_visit.reverse()\n",
        "print(\"Original order (after reverse()):\", places_to_visit)\n",
        "\n",
        "places_to_visit.sort()\n",
        "print(\"Alphabetical order (after sort()):\", places_to_visit)\n",
        "\n",
        "places_to_visit.sort(reverse=True)\n",
        "print(\"Reverse-alphabetical order (after sort(reverse=True)):\", places_to_visit)\n"
      ],
      "metadata": {
        "colab": {
          "base_uri": "https://localhost:8080/"
        },
        "id": "r39B4BRNtLOq",
        "outputId": "3dd69249-cb9a-430a-d004-b6bf8628e763"
      },
      "execution_count": null,
      "outputs": [
        {
          "output_type": "stream",
          "name": "stdout",
          "text": [
            "Original order: ['Dar es Salaam', 'Kyoto', 'Samarkand', 'Sydney', 'Athens']\n",
            "Alphabetical order: ['Athens', 'Dar es Salaam', 'Kyoto', 'Samarkand', 'Sydney']\n",
            "Original order (after sorted()): ['Dar es Salaam', 'Kyoto', 'Samarkand', 'Sydney', 'Athens']\n",
            "Reverse-alphabetical order: ['Sydney', 'Samarkand', 'Kyoto', 'Dar es Salaam', 'Athens']\n",
            "Original order (after sorted(reverse=True)): ['Dar es Salaam', 'Kyoto', 'Samarkand', 'Sydney', 'Athens']\n",
            "Reversed order: ['Athens', 'Sydney', 'Samarkand', 'Kyoto', 'Dar es Salaam']\n",
            "Original order (after reverse()): ['Dar es Salaam', 'Kyoto', 'Samarkand', 'Sydney', 'Athens']\n",
            "Alphabetical order (after sort()): ['Athens', 'Dar es Salaam', 'Kyoto', 'Samarkand', 'Sydney']\n",
            "Reverse-alphabetical order (after sort(reverse=True)): ['Sydney', 'Samarkand', 'Kyoto', 'Dar es Salaam', 'Athens']\n"
          ]
        }
      ]
    },
    {
      "cell_type": "code",
      "source": [
        "\n",
        "langs = [\"English\", \"Spanish\", \"Mandarin\", \"French\", \"Arabic\"]\n",
        "\n",
        "\n",
        "print(\"Original list:\", langs)\n",
        "\n",
        "\n",
        "langs.append(\"Russian\")\n",
        "print(\"List after appending 'Russian':\", langs)\n",
        "\n",
        "\n",
        "langs.insert(2, \"Hindi\")\n",
        "print(\"List after inserting 'Hindi' at index 2:\", langs)\n",
        "\n",
        "\n",
        "remove_lang = langs.pop(4)\n",
        "print(\"List after removing\", remove_lang + \":\", langs)\n",
        "\n",
        "\n",
        "langs.remove(\"Mandarin\")\n",
        "print(\"List after removing 'Mandarin':\", langs)\n",
        "\n",
        "\n",
        "langs.sort()\n",
        "print(\"List after sorting:\", langs)\n",
        "\n",
        "\n",
        "langs.reverse()\n",
        "print(\"List after reversing:\", langs)\n",
        "\n",
        "\n",
        "list_length = len(langs)\n",
        "print(\"Length of the list:\", list_length)\n",
        "\n",
        "index_of_rus = langs.index(\"Russian\")\n",
        "print(\"Index of 'Russian':\", index_of_rus)\n",
        "\n",
        "\n",
        "count_of_english = langs.count(\"English\")\n",
        "print(\"Count of 'English':\", count_of_english)\n"
      ],
      "metadata": {
        "colab": {
          "base_uri": "https://localhost:8080/"
        },
        "id": "bCivHB-ouFu-",
        "outputId": "c81427ab-151a-416d-e07f-916923e3f49f"
      },
      "execution_count": null,
      "outputs": [
        {
          "output_type": "stream",
          "name": "stdout",
          "text": [
            "Original list: ['English', 'Spanish', 'Mandarin', 'French', 'Arabic']\n",
            "List after appending 'Russian': ['English', 'Spanish', 'Mandarin', 'French', 'Arabic', 'Russian']\n",
            "List after inserting 'Hindi' at index 2: ['English', 'Spanish', 'Hindi', 'Mandarin', 'French', 'Arabic', 'Russian']\n",
            "List after removing French: ['English', 'Spanish', 'Hindi', 'Mandarin', 'Arabic', 'Russian']\n",
            "List after removing 'Mandarin': ['English', 'Spanish', 'Hindi', 'Arabic', 'Russian']\n",
            "List after sorting: ['Arabic', 'English', 'Hindi', 'Russian', 'Spanish']\n",
            "List after reversing: ['Spanish', 'Russian', 'Hindi', 'English', 'Arabic']\n",
            "Length of the list: 5\n",
            "Index of 'Russian': 1\n",
            "Count of 'English': 1\n"
          ]
        }
      ]
    }
  ]
}