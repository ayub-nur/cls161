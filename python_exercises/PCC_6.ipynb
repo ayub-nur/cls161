{
  "nbformat": 4,
  "nbformat_minor": 0,
  "metadata": {
    "colab": {
      "provenance": [],
      "authorship_tag": "ABX9TyOos2ppVdL2BchIz5vmmYCY"
    },
    "kernelspec": {
      "name": "python3",
      "display_name": "Python 3"
    },
    "language_info": {
      "name": "python"
    }
  },
  "cells": [
    {
      "cell_type": "code",
      "execution_count": null,
      "metadata": {
        "id": "YxO4INpp3hfM",
        "colab": {
          "base_uri": "https://localhost:8080/"
        },
        "outputId": "547ab021-8039-49e5-cd95-bd30c7b16e66"
      },
      "outputs": [
        {
          "output_type": "stream",
          "name": "stdout",
          "text": [
            "First Name: Ayub\n",
            "Last Name: Nur\n",
            "Age: 21\n",
            "City: Portland\n"
          ]
        }
      ],
      "source": [
        "#6-1\n",
        "person_info = {\n",
        "    'first_name': 'Ayub',\n",
        "    'last_name': 'Nur',\n",
        "    'age': 21,\n",
        "    'city': 'Portland'\n",
        "}\n",
        "\n",
        "print(\"First Name:\", person_info['first_name'])\n",
        "print(\"Last Name:\", person_info['last_name'])\n",
        "print(\"Age:\", person_info['age'])\n",
        "print(\"City:\", person_info['city'])"
      ]
    },
    {
      "cell_type": "code",
      "source": [
        "#6-2\n",
        "favorite_numbers = {\n",
        "    'Ayub': 10,\n",
        "    'Sammy': 11,\n",
        "    'Clarke': 13,\n",
        "    'Piop': 842,\n",
        "    'Kyler': 32132\n",
        "}\n",
        "\n",
        "for person, number in favorite_numbers.items():\n",
        "    print(f\"{person}'s favorite number is {number}.\")"
      ],
      "metadata": {
        "id": "fMqevZwZn8QF",
        "colab": {
          "base_uri": "https://localhost:8080/"
        },
        "outputId": "71a3e362-5ea2-473d-f635-363aee76bf25"
      },
      "execution_count": null,
      "outputs": [
        {
          "output_type": "stream",
          "name": "stdout",
          "text": [
            "Ayub's favorite number is 10.\n",
            "Sammy's favorite number is 11.\n",
            "Clarke's favorite number is 13.\n",
            "Piop's favorite number is 842.\n",
            "Kyler's favorite number is 32132.\n"
          ]
        }
      ]
    },
    {
      "cell_type": "code",
      "source": [
        "#6-3\n",
        "programming_glossary = {\n",
        "    'if-Else Statement': 'takes one action when a conditional test passes and a different action in all other cases',\n",
        "    'If Statement': 'allows you to examine the current state of a program and respond appropriately to that state',\n",
        "    'Conditional Test': 'An expression that can be evaluated as True or False',\n",
        "    'List': 'An ordered collection of items that can be of different types. Lists are mutable, and elements can be added, removed, or modified.',\n",
        "    'Loop': 'A control flow statement that allows code to be executed repeatedly based on a certain condition.'\n",
        "}\n",
        "\n",
        "for term, meaning in programming_glossary.items():\n",
        "    print(f\"{term}:\\n{meaning}\\n\")"
      ],
      "metadata": {
        "id": "tsUdXL71oEXz",
        "colab": {
          "base_uri": "https://localhost:8080/"
        },
        "outputId": "55654ea9-7f13-41f9-c5a5-74dbb6de645e"
      },
      "execution_count": null,
      "outputs": [
        {
          "output_type": "stream",
          "name": "stdout",
          "text": [
            "if-Else Statement:\n",
            "takes one action when a conditional test passes and a different action in all other cases\n",
            "\n",
            "If Statement:\n",
            "allows you to examine the current state of a program and respond appropriately to that state\n",
            "\n",
            "Conditional Test:\n",
            "An expression that can be evaluated as True or False\n",
            "\n",
            "List:\n",
            "An ordered collection of items that can be of different types. Lists are mutable, and elements can be added, removed, or modified.\n",
            "\n",
            "Loop:\n",
            "A control flow statement that allows code to be executed repeatedly based on a certain condition.\n",
            "\n"
          ]
        }
      ]
    },
    {
      "cell_type": "code",
      "source": [
        "#6-4\n",
        "#not needed"
      ],
      "metadata": {
        "id": "zq243MYsoF2p"
      },
      "execution_count": null,
      "outputs": []
    },
    {
      "cell_type": "code",
      "source": [
        "#6-5\n",
        "rivers_dict = {\n",
        "    'Nile': 'Egypt',\n",
        "    'Yangtze': 'China',\n",
        "    'Mississippi': 'USA'\n",
        "}\n",
        "\n",
        "print(\"Sentences about each river:\")\n",
        "for river, country in rivers_dict.items():\n",
        "    print(f\"The {river} runs through {country}.\")\n",
        "\n",
        "print(\"\\nNames of each river:\")\n",
        "for river in rivers_dict.keys():\n",
        "    print(river)\n",
        "\n",
        "print(\"\\nNames of each country:\")\n",
        "for country in rivers_dict.values():\n",
        "    print(country)"
      ],
      "metadata": {
        "id": "_C07_sEUoH0g",
        "colab": {
          "base_uri": "https://localhost:8080/"
        },
        "outputId": "54a3fd03-8000-410b-9225-46e715f49b90"
      },
      "execution_count": null,
      "outputs": [
        {
          "output_type": "stream",
          "name": "stdout",
          "text": [
            "Sentences about each river:\n",
            "The Nile runs through Egypt.\n",
            "The Yangtze runs through China.\n",
            "The Mississippi runs through USA.\n",
            "\n",
            "Names of each river:\n",
            "Nile\n",
            "Yangtze\n",
            "Mississippi\n",
            "\n",
            "Names of each country:\n",
            "Egypt\n",
            "China\n",
            "USA\n"
          ]
        }
      ]
    },
    {
      "cell_type": "code",
      "source": [
        "#6-7\n",
        "person_info = {\n",
        "    'first_name': 'Ayub',\n",
        "    'last_name': 'Nur',\n",
        "    'age': 21,\n",
        "    'city': 'Portland'\n",
        "}\n",
        "\n",
        "person2_info = {\n",
        "    'first_name': 'Nadim',\n",
        "    'last_name': 'Barakat',\n",
        "    'age': 22,\n",
        "    'city': 'North Attleboro'\n",
        "}\n",
        "\n",
        "person3_info = {\n",
        "    'first_name': 'Nessren',\n",
        "    'last_name': 'Oudryl',\n",
        "    'age': 20,\n",
        "    'city': 'North Reading'\n",
        "}\n",
        "\n",
        "people = [person_info, person2_info, person3_info]\n",
        "\n",
        "for person in people:\n",
        "    print(\"\\nPerson Information:\")\n",
        "    print(\"First Name:\", person['first_name'])\n",
        "    print(\"Last Name:\", person['last_name'])\n",
        "    print(\"Age:\", person['age'])\n",
        "    print(\"City:\", person['city'])\n"
      ],
      "metadata": {
        "id": "WXs0ukc_oJnC",
        "colab": {
          "base_uri": "https://localhost:8080/"
        },
        "outputId": "89fac0ad-1e28-47f8-96c2-7405bbbc9a7e"
      },
      "execution_count": null,
      "outputs": [
        {
          "output_type": "stream",
          "name": "stdout",
          "text": [
            "\n",
            "Person Information:\n",
            "First Name: Ayub\n",
            "Last Name: Nur\n",
            "Age: 21\n",
            "City: Portland\n",
            "\n",
            "Person Information:\n",
            "First Name: Nadim\n",
            "Last Name: Barakat\n",
            "Age: 22\n",
            "City: North Attleboro\n",
            "\n",
            "Person Information:\n",
            "First Name: Nessren\n",
            "Last Name: Oudryl\n",
            "Age: 20\n",
            "City: North Reading\n"
          ]
        }
      ]
    },
    {
      "cell_type": "code",
      "source": [
        "#6-8\n",
        "# Creating dictionaries for several pets\n",
        "pet1 = {'name': 'Fritz', 'kind': 'Cat', 'owner': 'Ayub'}\n",
        "pet2 = {'name': 'Grunt', 'kind': 'Gerbil', 'owner': 'Nadim'}\n",
        "pet3 = {'name': 'Milly', 'kind': 'Dog', 'owner': 'Nessren'}\n",
        "\n",
        "# Storing the dictionaries in a list called pets\n",
        "pets = [pet1, pet2, pet3]\n",
        "\n",
        "# Looping through the list of pets\n",
        "for pet in pets:\n",
        "    print(f\"\\nPet Information for {pet['name']}:\")\n",
        "    print(\"Kind of Animal:\", pet['kind'])\n",
        "    print(\"Owner's Name:\", pet['owner'])\n"
      ],
      "metadata": {
        "id": "rXjbJj52oKra",
        "colab": {
          "base_uri": "https://localhost:8080/"
        },
        "outputId": "9e75dc7d-3e38-4245-e27e-ca26f030ca3e"
      },
      "execution_count": null,
      "outputs": [
        {
          "output_type": "stream",
          "name": "stdout",
          "text": [
            "\n",
            "Pet Information for Fritz:\n",
            "Kind of Animal: Cat\n",
            "Owner's Name: Ayub\n",
            "\n",
            "Pet Information for Grunt:\n",
            "Kind of Animal: Gerbil\n",
            "Owner's Name: Nadim\n",
            "\n",
            "Pet Information for Milly:\n",
            "Kind of Animal: Dog\n",
            "Owner's Name: Nessren\n"
          ]
        }
      ]
    },
    {
      "cell_type": "code",
      "source": [
        "#6-9\n",
        "# Creating a dictionary called favorite_places\n",
        "favorite_places = {\n",
        "    'Ayub': ['Istanbul', 'Mount Katahdin', 'Sabego Lake'],\n",
        "    'Nadim': ['Sydney', 'Waterfall', 'Montreal'],\n",
        "    'Nessren': ['Nice', 'Portsmouth', 'Morocco']\n",
        "}\n",
        "\n",
        "# Looping through the dictionary and printing each person's name and favorite places\n",
        "for person, places in favorite_places.items():\n",
        "    print(f\"\\n{person}'s Favorite Places:\")\n",
        "    for place in places:\n",
        "        print(\"- \" + place)\n"
      ],
      "metadata": {
        "id": "GGr2vfbwoMqN",
        "colab": {
          "base_uri": "https://localhost:8080/"
        },
        "outputId": "1d4b8319-58ec-4f6c-fa61-b7f4ad79996f"
      },
      "execution_count": null,
      "outputs": [
        {
          "output_type": "stream",
          "name": "stdout",
          "text": [
            "\n",
            "Ayub's Favorite Places:\n",
            "- Istanbul\n",
            "- Mount Katahdin\n",
            "- Sabego Lake\n",
            "\n",
            "Nadim's Favorite Places:\n",
            "- Sydney\n",
            "- Waterfall\n",
            "- Montreal\n",
            "\n",
            "Nessren's Favorite Places:\n",
            "- Nice\n",
            "- Portsmouth\n",
            "- Morocco\n"
          ]
        }
      ]
    },
    {
      "cell_type": "code",
      "source": [
        "#6-11\n",
        "# Creating a dictionary called cities\n",
        "cities = {\n",
        "    'Tokyo': {\n",
        "        'country': 'Japan',\n",
        "        'population': 1475000,\n",
        "        'fact': 'Kyoto is known traditional architecture.'\n",
        "    },\n",
        "    'New York': {\n",
        "        'country': 'United States',\n",
        "        'population': 654776,\n",
        "        'fact': 'Boston is basically where I am right now.\"'\n",
        "    },\n",
        "    'Paris': {\n",
        "        'country': 'Scotland',\n",
        "        'population': 635100,\n",
        "        'fact': 'Glasgow is the most populous city in Scotland.'\n",
        "    }\n",
        "}\n",
        "\n",
        "# Printing information about each city\n",
        "for city, info in cities.items():\n",
        "    print(f\"\\nCity: {city}\")\n",
        "    print(\"Country:\", info['country'])\n",
        "    print(\"Population:\", info['population'])\n",
        "    print(\"Fact:\", info['fact'])\n"
      ],
      "metadata": {
        "id": "0zxusx4DoN-v",
        "colab": {
          "base_uri": "https://localhost:8080/"
        },
        "outputId": "3571dbe2-b958-4712-9dcf-508fce9d5003"
      },
      "execution_count": null,
      "outputs": [
        {
          "output_type": "stream",
          "name": "stdout",
          "text": [
            "\n",
            "City: Tokyo\n",
            "Country: Japan\n",
            "Population: 1475000\n",
            "Fact: Kyoto is known traditional architecture.\n",
            "\n",
            "City: New York\n",
            "Country: United States\n",
            "Population: 654776\n",
            "Fact: Boston is basically where I am right now.\"\n",
            "\n",
            "City: Paris\n",
            "Country: Scotland\n",
            "Population: 635100\n",
            "Fact: Glasgow is the most populous city in Scotland.\n"
          ]
        }
      ]
    }
  ]
}